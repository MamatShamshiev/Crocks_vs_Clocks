{
 "cells": [
  {
   "cell_type": "markdown",
   "metadata": {
    "ExecuteTime": {
     "end_time": "2018-05-01T19:33:16.137297Z",
     "start_time": "2018-05-01T19:33:16.130293Z"
    }
   },
   "source": [
    "# Решение заочного задания для стажеров "
   ]
  },
  {
   "cell_type": "markdown",
   "metadata": {},
   "source": [
    "<div style=\"text-align: right\"> М. М. Шамшиев  </div> \n",
    "<div style=\"text-align: right\"> 06.05.2018 </div> "
   ]
  },
  {
   "cell_type": "markdown",
   "metadata": {},
   "source": [
    "##  Задача 1.1"
   ]
  },
  {
   "cell_type": "markdown",
   "metadata": {},
   "source": [
    "<b> Постановка задачи</b>: необходимо построить классификатор, разделяющий изображения двух классов: часы и крокодилы. Набор данных состоит из 500 цветных изображений каждого класса размера 32x32.\n",
    "\n",
    "В качестве модели для решения данной задачи взята свёрточная нейронная сеть, реализованная с помощью библиотеки PyTorch. \n",
    "\n",
    "Для подбора параметров и оценки качества работы модели исходный набор данных был разделен на 3 части: обучающую, валидационную и тестовую. С помощью обучающей и валидационной выборок будет произведен подбор параметров сети, а на изображениях тестовой выборки будет оценено качество предсказания финальной модели."
   ]
  },
  {
   "cell_type": "code",
   "execution_count": 1,
   "metadata": {
    "ExecuteTime": {
     "end_time": "2018-05-06T16:20:45.284577Z",
     "start_time": "2018-05-06T16:20:43.218267Z"
    },
    "collapsed": true
   },
   "outputs": [],
   "source": [
    "import numpy as np\n",
    "\n",
    "import torch\n",
    "import torch.nn as nn\n",
    "import torch.nn.functional as F\n",
    "from torch.autograd import Variable\n",
    "import torchvision\n",
    "import torchvision.transforms as transforms\n",
    "import torch.utils\n",
    "import torch.optim as optim\n",
    "\n",
    "import glob\n",
    "import matplotlib.pyplot as plt\n",
    "import skimage.io\n",
    "from sklearn.model_selection import train_test_split\n",
    "\n",
    "from ConvNetwork import ConvNetAutoEncoder\n",
    "from ConvNetwork import fit_autoencoder\n",
    "from ConvNetwork import fit_net\n",
    "from ConvNetwork import check_accuracy\n",
    "\n",
    "%matplotlib inline"
   ]
  },
  {
   "cell_type": "markdown",
   "metadata": {},
   "source": [
    "### Загрузка и подготовка данных"
   ]
  },
  {
   "cell_type": "markdown",
   "metadata": {},
   "source": [
    "Предполагается, что папки, содержащие изображения, находятся в текущей директории и имеют названия \"crocodiles\" и \"clocks\"."
   ]
  },
  {
   "cell_type": "code",
   "execution_count": 2,
   "metadata": {
    "ExecuteTime": {
     "end_time": "2018-05-06T16:20:49.365060Z",
     "start_time": "2018-05-06T16:20:48.834323Z"
    },
    "collapsed": true
   },
   "outputs": [],
   "source": [
    "crocs = np.array([skimage.io.imread(file) for file in glob.glob(\"crocodiles/*.png\")])\n",
    "crocs = np.transpose(crocs, (0, 3, 1, 2))\n",
    "\n",
    "clocks = np.array([skimage.io.imread(file) for file in glob.glob(\"clocks/*.png\")])\n",
    "clocks = np.transpose(clocks, (0, 3, 1, 2))"
   ]
  },
  {
   "cell_type": "markdown",
   "metadata": {},
   "source": [
    "Как было обговорено ранее, разобьем исходные данные на три части: обучающую, валидационную и тестовую и приведем их к типу torch.Tensor:"
   ]
  },
  {
   "cell_type": "code",
   "execution_count": 3,
   "metadata": {
    "ExecuteTime": {
     "end_time": "2018-05-06T16:20:49.960483Z",
     "start_time": "2018-05-06T16:20:49.933464Z"
    },
    "collapsed": true
   },
   "outputs": [],
   "source": [
    "X = np.concatenate((crocs, clocks))\n",
    "y = np.concatenate((np.zeros(len(crocs), dtype=np.int), np.ones(len(clocks), dtype=np.int)))\n",
    "full_train, test, full_y_train, y_test = train_test_split(X, y, test_size=0.2)\n",
    "train, val, y_train, y_val = train_test_split(full_train, full_y_train, test_size=0.2)"
   ]
  },
  {
   "cell_type": "code",
   "execution_count": 4,
   "metadata": {
    "ExecuteTime": {
     "end_time": "2018-05-06T16:20:50.552439Z",
     "start_time": "2018-05-06T16:20:50.517414Z"
    },
    "collapsed": true
   },
   "outputs": [],
   "source": [
    "test = torch.stack([torch.Tensor(i) for i in test])\n",
    "val = torch.stack([torch.Tensor(i) for i in val])\n",
    "train = torch.stack([torch.Tensor(i) for i in train])\n",
    "y_test = torch.LongTensor(y_test)\n",
    "y_val = torch.LongTensor(y_val)\n",
    "y_train = torch.LongTensor(y_train)"
   ]
  },
  {
   "cell_type": "markdown",
   "metadata": {},
   "source": [
    "Для лучшей сходимости процесса обучения переведем значения всех пикселей в отрезок $[-1, 1]$:"
   ]
  },
  {
   "cell_type": "code",
   "execution_count": 5,
   "metadata": {
    "ExecuteTime": {
     "end_time": "2018-05-06T16:21:16.701273Z",
     "start_time": "2018-05-06T16:21:16.695270Z"
    },
    "collapsed": true
   },
   "outputs": [],
   "source": [
    "transform = transforms.Normalize((127.5, 127.5, 127.5), (127.5, 127.5, 127.5))"
   ]
  },
  {
   "cell_type": "code",
   "execution_count": 6,
   "metadata": {
    "ExecuteTime": {
     "end_time": "2018-05-06T16:21:17.138584Z",
     "start_time": "2018-05-06T16:21:17.111565Z"
    },
    "collapsed": true
   },
   "outputs": [],
   "source": [
    "for image in train:\n",
    "    transform(image)\n",
    "for image in test:\n",
    "    transform(image)\n",
    "for image in val:\n",
    "    transform(image)    "
   ]
  },
  {
   "cell_type": "code",
   "execution_count": 7,
   "metadata": {
    "ExecuteTime": {
     "end_time": "2018-05-06T16:21:34.715621Z",
     "start_time": "2018-05-06T16:21:34.710619Z"
    },
    "collapsed": true
   },
   "outputs": [],
   "source": [
    "data_train = torch.utils.data.TensorDataset(train, y_train)\n",
    "data_test = torch.utils.data.TensorDataset(test, y_test)\n",
    "data_val = torch.utils.data.TensorDataset(val, y_val)"
   ]
  },
  {
   "cell_type": "code",
   "execution_count": 8,
   "metadata": {
    "ExecuteTime": {
     "end_time": "2018-05-06T16:21:35.608950Z",
     "start_time": "2018-05-06T16:21:35.602945Z"
    },
    "collapsed": true
   },
   "outputs": [],
   "source": [
    "trainloader = torch.utils.data.DataLoader(data_train, batch_size=4, shuffle=True) \n",
    "testloader = torch.utils.data.DataLoader(data_test, batch_size=4, shuffle=True) \n",
    "valloader = torch.utils.data.DataLoader(data_val, batch_size=4, shuffle=True)"
   ]
  },
  {
   "cell_type": "markdown",
   "metadata": {},
   "source": [
    "Вспомагательные функции:"
   ]
  },
  {
   "cell_type": "code",
   "execution_count": 9,
   "metadata": {
    "ExecuteTime": {
     "end_time": "2018-05-06T16:21:43.009469Z",
     "start_time": "2018-05-06T16:21:43.002466Z"
    },
    "collapsed": true
   },
   "outputs": [],
   "source": [
    "def imshow(img, tensor=True):\n",
    "    \"\"\"\n",
    "    Unnormalize image and show it\n",
    "    \"\"\"\n",
    "    \n",
    "    if tensor is True:\n",
    "        npimg = img.numpy()\n",
    "    else:\n",
    "        npimg = img\n",
    "    npimg = npimg * 127.5 + 127.5\n",
    "    npimg = npimg.astype(np.uint8)\n",
    "    plt.imshow(np.transpose(npimg, (1, 2, 0)))\n",
    "    plt.show()"
   ]
  },
  {
   "cell_type": "code",
   "execution_count": 10,
   "metadata": {
    "ExecuteTime": {
     "end_time": "2018-05-06T16:21:43.364723Z",
     "start_time": "2018-05-06T16:21:43.355715Z"
    },
    "collapsed": true
   },
   "outputs": [],
   "source": [
    "def loss(net, criterion, loader):\n",
    "    \"\"\"\n",
    "    Calculate loss on the given dataset\n",
    "    \"\"\"\n",
    "    \n",
    "    loss = 0\n",
    "    for data in loader:\n",
    "        images, labels = data\n",
    "        images, labels = Variable(images), Variable(labels)\n",
    "        outputs = net(images)\n",
    "        loss += criterion(outputs, labels).data\n",
    "    return (loss / len(loader))[0]"
   ]
  },
  {
   "cell_type": "code",
   "execution_count": 11,
   "metadata": {
    "ExecuteTime": {
     "end_time": "2018-05-06T16:21:43.880372Z",
     "start_time": "2018-05-06T16:21:43.874368Z"
    },
    "collapsed": true
   },
   "outputs": [],
   "source": [
    "criterion = nn.CrossEntropyLoss()"
   ]
  },
  {
   "cell_type": "markdown",
   "metadata": {},
   "source": [
    "## Подбор параметров"
   ]
  },
  {
   "cell_type": "markdown",
   "metadata": {},
   "source": [
    "Приступим к подбору параметров модели.  \n",
    "\n",
    "Учитывая крайне небольшой размер предоставленных данных, подбор параметров за относительно небольшое время можно было бы произвести полным перебором по сеткам значений различных параметров (например, с помощью GridSearchCV из библиотеки scikit-learn). Однако данный подход является невозможным во многих задачах, встречающихся на практике, в виду огромных временных затрат.  \n",
    "\n",
    "В связи с этим, откажемся от идеи банального полного перебора и попробуем подбирать параметры по очереди: при подборе одного из параметров, остальные будут зафиксированы. Данный подход, естественно, будет уступать полному перебору по качеству подобранных параметров, но зато потребует на порядок меньше вычислительных и временных затрат, а также он является применимым в задачах, где размер обучающей выборки превосходит размер выборки из данной задачи в десятки или сотни раз."
   ]
  },
  {
   "cell_type": "markdown",
   "metadata": {},
   "source": [
    "### 0. Число эпох"
   ]
  },
  {
   "cell_type": "markdown",
   "metadata": {},
   "source": [
    "Прежде чем подбирать параметры сверточной нейронной сети, попробуем сначала \"прикинуть\" количество эпох, необходимое для обучения модели с помощью стохастического градиентного спуска."
   ]
  },
  {
   "cell_type": "code",
   "execution_count": 12,
   "metadata": {
    "ExecuteTime": {
     "end_time": "2018-05-06T15:44:44.982666Z",
     "start_time": "2018-05-06T15:43:50.652599Z"
    },
    "collapsed": true
   },
   "outputs": [],
   "source": [
    "loss_train = []\n",
    "loss_val = []\n",
    "epoches = 100\n",
    "net = ConvNetAutoEncoder(input_size=(3, 32, 32), conv_layers_num=1, conv_out_channels=10, conv_kernel_size=4, \n",
    "                         conv_stride=2, pool_kernel_size=2, pool_stride=1)\n",
    "optimizer = optim.SGD(net.parameters(), lr=0.01, weight_decay=0.01)\n",
    "for epoch in range(epoches):\n",
    "    fit_net(net, optimizer, criterion, trainloader, 1)\n",
    "    loss_train.append(loss(net, criterion, trainloader))\n",
    "    loss_val.append(loss(net, criterion, valloader))"
   ]
  },
  {
   "cell_type": "code",
   "execution_count": 18,
   "metadata": {
    "ExecuteTime": {
     "end_time": "2018-05-06T15:47:17.215954Z",
     "start_time": "2018-05-06T15:47:16.927997Z"
    }
   },
   "outputs": [
    {
     "data": {
      "image/png": "[encoded data removed]",
      "text/plain": [
       "<matplotlib.figure.Figure at 0x2b79d2c5588>"
      ]
     },
     "metadata": {},
     "output_type": "display_data"
    }
   ],
   "source": [
    "fig, ax1 = plt.subplots(1, 1, figsize=(8, 5))\n",
    "ax1.plot(range(epoches), loss_train, lw=3, label='Training set')\n",
    "ax1.plot(range(epoches), loss_val, lw=3, label='Validation set')\n",
    "ax1.grid()\n",
    "ax1.legend()\n",
    "ax1.set_title(\"Loss на обучении и валидации\")\n",
    "ax1.set_xlabel(\"Номер эпохи\")\n",
    "ax1.set_ylabel(\"Значение функции потерь\")\n",
    "plt.show()"
   ]
  },
  {
   "cell_type": "markdown",
   "metadata": {},
   "source": [
    "Из первого графика отчетливо видно, что примерно до 15й эпохи значение функции потерь как на обучающей, так и на валидационной выборках уменьшалось. Однако далее лосс-функция на валидационной выборке начала осциллировать вокруг некоторого значения, в то время как значение функции потерь на обучающей выборке ожидаемо продолжало падать. Таким образом, можно сделать вывод, что после примено 15й эпохи, несмотря на уменьшение оптимизируемого функционала, обобщающая способность модели не увеличивалась.\n",
    "\n",
    "В качестве первого приближения количества эпох для обучения возьмем значение 15."
   ]
  },
  {
   "cell_type": "code",
   "execution_count": 19,
   "metadata": {
    "ExecuteTime": {
     "end_time": "2018-05-06T16:22:50.661254Z",
     "start_time": "2018-05-06T16:22:50.657252Z"
    },
    "collapsed": true
   },
   "outputs": [],
   "source": [
    "epoch_num = 15"
   ]
  },
  {
   "cell_type": "markdown",
   "metadata": {},
   "source": [
    "### 1. Размер ядра свёртки"
   ]
  },
  {
   "cell_type": "markdown",
   "metadata": {},
   "source": [
    "Подбор параметров сети начнем с подбора размера ядер свёрток. Учитывая небольшой размер изображений (32х32), переберем значения данного параметра по целочисленной сетке от 2 до 9 включительно."
   ]
  },
  {
   "cell_type": "code",
   "execution_count": 24,
   "metadata": {
    "ExecuteTime": {
     "end_time": "2018-05-06T16:24:16.847868Z",
     "start_time": "2018-05-06T16:23:59.163475Z"
    },
    "scrolled": true
   },
   "outputs": [
    {
     "name": "stdout",
     "output_type": "stream",
     "text": [
      "Размер фильтра = 2:\n",
      "[epoch 5] loss: 0.480\n",
      "[epoch 10] loss: 0.371\n",
      "[epoch 15] loss: 0.317\n",
      "Ошибка на валидации: 0.456\n",
      "Точность на валидации: 82.50 %\n",
      "\n",
      "Размер фильтра = 3:\n",
      "[epoch 5] loss: 0.481\n",
      "[epoch 10] loss: 0.343\n",
      "[epoch 15] loss: 0.263\n",
      "Ошибка на валидации: 0.382\n",
      "Точность на валидации: 84.38 %\n",
      "\n",
      "Размер фильтра = 4:\n",
      "[epoch 5] loss: 0.456\n",
      "[epoch 10] loss: 0.313\n",
      "[epoch 15] loss: 0.244\n",
      "Ошибка на валидации: 0.352\n",
      "Точность на валидации: 85.00 %\n",
      "\n",
      "Размер фильтра = 5:\n",
      "[epoch 5] loss: 0.470\n",
      "[epoch 10] loss: 0.335\n",
      "[epoch 15] loss: 0.268\n",
      "Ошибка на валидации: 0.380\n",
      "Точность на валидации: 83.12 %\n",
      "\n",
      "Размер фильтра = 6:\n",
      "[epoch 5] loss: 0.484\n",
      "[epoch 10] loss: 0.327\n",
      "[epoch 15] loss: 0.251\n",
      "Ошибка на валидации: 0.369\n",
      "Точность на валидации: 84.38 %\n",
      "\n",
      "Размер фильтра = 7:\n",
      "[epoch 5] loss: 0.475\n",
      "[epoch 10] loss: 0.330\n",
      "[epoch 15] loss: 0.248\n",
      "Ошибка на валидации: 0.393\n",
      "Точность на валидации: 83.12 %\n",
      "\n",
      "Размер фильтра = 8:\n",
      "[epoch 5] loss: 0.492\n",
      "[epoch 10] loss: 0.362\n",
      "[epoch 15] loss: 0.267\n",
      "Ошибка на валидации: 0.424\n",
      "Точность на валидации: 80.62 %\n",
      "\n"
     ]
    }
   ],
   "source": [
    "loss_train = [] \n",
    "loss_val = []\n",
    "accuracies_val = []\n",
    "filt_sizes = range(2, 9)\n",
    "for size in filt_sizes:\n",
    "    net = ConvNetAutoEncoder(input_size=(3, 32, 32), conv_layers_num=1, conv_out_channels=5, conv_kernel_size=size, \n",
    "                             conv_stride=2, pool_kernel_size=2, pool_stride=1)\n",
    "    optimizer = optim.SGD(net.parameters(), lr=0.01, weight_decay=0.01)\n",
    "    print(\"Размер фильтра = %d:\" % size)\n",
    "    fit_net(net, optimizer, criterion, trainloader, epoch_num, verbose=True)\n",
    "    loss_train.append(loss(net, criterion, trainloader))\n",
    "    loss_val.append(loss(net, criterion, valloader))\n",
    "    accuracies_val.append(check_accuracy(net, valloader))\n",
    "    print(\"Ошибка на валидации: %.3f\" % loss_val[-1])\n",
    "    print(\"Точность на валидации: %.2f %%\" % accuracies_val[-1])\n",
    "    print(\"\")"
   ]
  },
  {
   "cell_type": "code",
   "execution_count": 25,
   "metadata": {
    "ExecuteTime": {
     "end_time": "2018-05-06T16:24:19.635277Z",
     "start_time": "2018-05-06T16:24:19.184719Z"
    }
   },
   "outputs": [
    {
     "data": {
      "image/png": "[encoded data removed]",
      "text/plain": [
       "<matplotlib.figure.Figure at 0x212be338240>"
      ]
     },
     "metadata": {},
     "output_type": "display_data"
    }
   ],
   "source": [
    "fig, (ax1, ax2) = plt.subplots(1, 2, figsize=(15, 5))\n",
    "\n",
    "ax1.plot(filt_sizes, loss_val, lw=3)\n",
    "ax1.set_title(\"Loss на валидационной выборке\")\n",
    "ax1.set_xlabel(\"Размер ядра свертки\")\n",
    "ax1.set_ylabel(\"Значение функции потерь\")\n",
    "ax1.grid()\n",
    "\n",
    "ax2.plot(filt_sizes, accuracies_val, lw=3, color='orange')\n",
    "ax2.set_title(\"Точность на валидационной выборке\")\n",
    "ax2.set_xlabel(\"Размер ядра свертки\")\n",
    "ax2.set_ylabel(\"Точность, %\")\n",
    "ax2.grid()"
   ]
  },
  {
   "cell_type": "markdown",
   "metadata": {},
   "source": [
    "Исходя из приведенных графиков, можно сделать вывод, что лучшим как с точки зрения значения минимизируемого функционала, так и с точки зрения полученной точности, является значение параметра равное 4.\n"
   ]
  },
  {
   "cell_type": "code",
   "execution_count": 26,
   "metadata": {
    "ExecuteTime": {
     "end_time": "2018-05-06T16:24:29.385307Z",
     "start_time": "2018-05-06T16:24:29.381305Z"
    },
    "collapsed": true
   },
   "outputs": [],
   "source": [
    "kernel_size = 4"
   ]
  },
  {
   "cell_type": "markdown",
   "metadata": {},
   "source": [
    "### 2. Количество фильтров на свёрточном слое"
   ]
  },
  {
   "cell_type": "markdown",
   "metadata": {},
   "source": [
    "Подбор данного параметра осуществим по целочисленной сетке от 5 до 45 включительно с шагом 5."
   ]
  },
  {
   "cell_type": "code",
   "execution_count": 31,
   "metadata": {
    "ExecuteTime": {
     "end_time": "2018-05-06T16:27:24.362601Z",
     "start_time": "2018-05-06T16:26:42.370071Z"
    },
    "scrolled": true
   },
   "outputs": [
    {
     "name": "stdout",
     "output_type": "stream",
     "text": [
      "Количество фильтров = 5:\n",
      "[epoch 5] loss: 0.449\n",
      "[epoch 10] loss: 0.304\n",
      "[epoch 15] loss: 0.241\n",
      "Ошибка на валидации: 0.334\n",
      "Точность на валидации: 86.88 %\n",
      "\n",
      "Количество фильтров = 10:\n",
      "[epoch 5] loss: 0.409\n",
      "[epoch 10] loss: 0.252\n",
      "[epoch 15] loss: 0.179\n",
      "Ошибка на валидации: 0.383\n",
      "Точность на валидации: 85.62 %\n",
      "\n",
      "Количество фильтров = 15:\n",
      "[epoch 5] loss: 0.405\n",
      "[epoch 10] loss: 0.240\n",
      "[epoch 15] loss: 0.166\n",
      "Ошибка на валидации: 0.394\n",
      "Точность на валидации: 85.62 %\n",
      "\n",
      "Количество фильтров = 20:\n",
      "[epoch 5] loss: 0.399\n",
      "[epoch 10] loss: 0.222\n",
      "[epoch 15] loss: 0.146\n",
      "Ошибка на валидации: 0.334\n",
      "Точность на валидации: 85.62 %\n",
      "\n",
      "Количество фильтров = 25:\n",
      "[epoch 5] loss: 0.386\n",
      "[epoch 10] loss: 0.221\n",
      "[epoch 15] loss: 0.154\n",
      "Ошибка на валидации: 0.344\n",
      "Точность на валидации: 86.25 %\n",
      "\n",
      "Количество фильтров = 30:\n",
      "[epoch 5] loss: 0.389\n",
      "[epoch 10] loss: 0.205\n",
      "[epoch 15] loss: 0.137\n",
      "Ошибка на валидации: 0.304\n",
      "Точность на валидации: 87.50 %\n",
      "\n",
      "Количество фильтров = 35:\n",
      "[epoch 5] loss: 0.361\n",
      "[epoch 10] loss: 0.187\n",
      "[epoch 15] loss: 0.118\n",
      "Ошибка на валидации: 0.316\n",
      "Точность на валидации: 88.75 %\n",
      "\n",
      "Количество фильтров = 40:\n",
      "[epoch 5] loss: 0.374\n",
      "[epoch 10] loss: 0.193\n",
      "[epoch 15] loss: 0.122\n",
      "Ошибка на валидации: 0.328\n",
      "Точность на валидации: 88.12 %\n",
      "\n"
     ]
    }
   ],
   "source": [
    "loss_train = []\n",
    "loss_val = []\n",
    "accuracies_val = []\n",
    "num_filt = range(5, 45, 5)\n",
    "for num in num_filt:\n",
    "    net = ConvNetAutoEncoder(input_size=(3, 32, 32), conv_layers_num=1, conv_out_channels=num, conv_kernel_size=kernel_size, \n",
    "                             conv_stride=2, pool_kernel_size=2, pool_stride=1)\n",
    "    optimizer = optim.SGD(net.parameters(), lr=0.01, weight_decay=0.01)\n",
    "    print(\"Количество фильтров = %d:\" % num)\n",
    "    fit_net(net, optimizer, criterion, trainloader, epoch_num, verbose=True)\n",
    "    loss_train.append(loss(net, criterion, trainloader))\n",
    "    loss_val.append(loss(net, criterion, valloader))\n",
    "    accuracies_val.append(check_accuracy(net, valloader))\n",
    "    print(\"Ошибка на валидации: %.3f\" % loss_val[-1])\n",
    "    print(\"Точность на валидации: %.2f %%\" % accuracies_val[-1])\n",
    "    print(\"\")"
   ]
  },
  {
   "cell_type": "code",
   "execution_count": 32,
   "metadata": {
    "ExecuteTime": {
     "end_time": "2018-05-06T16:27:29.917597Z",
     "start_time": "2018-05-06T16:27:29.448325Z"
    }
   },
   "outputs": [
    {
     "data": {
      "image/png": "[encoded data removed]",
      "text/plain": [
       "<matplotlib.figure.Figure at 0x212bd109cc0>"
      ]
     },
     "metadata": {},
     "output_type": "display_data"
    }
   ],
   "source": [
    "fig, (ax1, ax2) = plt.subplots(1, 2, figsize=(15, 5))\n",
    "\n",
    "ax1.plot(num_filt, loss_val, lw=3)\n",
    "ax1.set_title(\"Loss на валидационной выборке\")\n",
    "ax1.set_xlabel(\"Количество фильтров\")\n",
    "ax1.set_ylabel(\"Значение функции потерь\")\n",
    "ax1.grid()\n",
    "\n",
    "ax2.plot(num_filt, accuracies_val, lw=3, color='orange')\n",
    "ax2.set_title(\"Точность на валидационной выборке\")\n",
    "ax2.set_xlabel(\"Количество фильтров\")\n",
    "ax2.set_ylabel(\"Точность, %\")\n",
    "ax2.grid()"
   ]
  },
  {
   "cell_type": "markdown",
   "metadata": {},
   "source": [
    "Исходя из полученных графиков, можно сделать вывод, что качество работы модели до какого-то момента улучшалось с увеличением количества фильтров. Это логично, ведь при увеличении количества фильтров сеть усложняется и, возможно, становится способна улавливать закономерности в данных, которые раньше не могла заметить. Однако при избыточной сложности модели повышается вероятность столкнуться с переобучением.\n",
    "\n",
    "Выберем значение параметра количества фильтров на свёрточном слое равным 35."
   ]
  },
  {
   "cell_type": "code",
   "execution_count": 33,
   "metadata": {
    "ExecuteTime": {
     "end_time": "2018-05-06T16:28:58.500781Z",
     "start_time": "2018-05-06T16:28:58.494778Z"
    },
    "collapsed": true
   },
   "outputs": [],
   "source": [
    "conv_num = 35"
   ]
  },
  {
   "cell_type": "markdown",
   "metadata": {},
   "source": [
    "### 3. Количество сверточных блоков"
   ]
  },
  {
   "cell_type": "markdown",
   "metadata": {},
   "source": [
    "Попробуем использовать свёрточные сети, в архитектуру которых входит больше одного свёрточного блока.\n",
    "Будем добавлять свёрточные блоки с уже подобранными ранее значениями параметров, но положим значения параметра stride сверток равным 1 (а не 2, как это было ранее), поскольку иначе изображения сожмутся до совсем малых размеров и качество заметно упадёт."
   ]
  },
  {
   "cell_type": "code",
   "execution_count": 34,
   "metadata": {
    "ExecuteTime": {
     "end_time": "2018-05-06T16:29:49.594613Z",
     "start_time": "2018-05-06T16:29:02.676780Z"
    },
    "scrolled": true
   },
   "outputs": [
    {
     "name": "stdout",
     "output_type": "stream",
     "text": [
      "Количество блоков = 2:\n",
      "[epoch 5] loss: 0.437\n",
      "[epoch 10] loss: 0.278\n",
      "[epoch 15] loss: 0.180\n",
      "Точность на валидации: 83.75 %\n",
      "Ошибка на валидации: 0.370\n",
      "\n",
      "Количество блоков = 3:\n",
      "[epoch 5] loss: 0.530\n",
      "[epoch 10] loss: 0.347\n",
      "[epoch 15] loss: 0.253\n",
      "Точность на валидации: 82.50 %\n",
      "Ошибка на валидации: 0.372\n",
      "\n"
     ]
    }
   ],
   "source": [
    "loss_train = []\n",
    "loss_val = []\n",
    "accuracies_val = []\n",
    "num_blocks = range(2, 4)\n",
    "for num in num_blocks:\n",
    "    net = ConvNetAutoEncoder(input_size=(3, 32, 32), conv_layers_num=num, conv_out_channels=conv_num, \n",
    "                             conv_kernel_size=kernel_size, conv_stride=[2] + [1] * (num - 1), pool_kernel_size=2, \n",
    "                             pool_stride=1)\n",
    "    optimizer = optim.SGD(net.parameters(), lr=0.01, weight_decay=0.01)\n",
    "    print(\"Количество блоков = %d:\" % num)\n",
    "    fit_net(net, optimizer, criterion, trainloader, epoch_num, verbose=True)\n",
    "    loss_train.append(loss(net, criterion, trainloader))\n",
    "    loss_val.append(loss(net, criterion, valloader))\n",
    "    accuracies_val.append(check_accuracy(net, valloader))\n",
    "    print(\"Точность на валидации: %.2f %%\" % accuracies_val[-1])\n",
    "    print(\"Ошибка на валидации: %.3f\" % loss_val[-1])\n",
    "    print(\"\")"
   ]
  },
  {
   "cell_type": "markdown",
   "metadata": {},
   "source": [
    "Итак, добавление свёрточных блоков к архитектуре нейронной сети не привело к улучшению качества модели."
   ]
  },
  {
   "cell_type": "markdown",
   "metadata": {},
   "source": [
    "### 4. Финальная модель"
   ]
  },
  {
   "cell_type": "markdown",
   "metadata": {},
   "source": [
    "Объедим обучающую и валидационную части датасета, обучим модель с подобранными значениями параметров и посмотрим на точность на тестовом множестве."
   ]
  },
  {
   "cell_type": "code",
   "execution_count": 35,
   "metadata": {
    "ExecuteTime": {
     "end_time": "2018-05-06T16:30:47.425818Z",
     "start_time": "2018-05-06T16:30:47.409808Z"
    },
    "collapsed": true
   },
   "outputs": [],
   "source": [
    "full_train = torch.cat((train, val))\n",
    "full_y_train = torch.cat((y_train, y_val))\n",
    "data_full_train = torch.utils.data.TensorDataset(full_train, full_y_train)\n",
    "fulltrainloader = torch.utils.data.DataLoader(data_full_train, batch_size=4, shuffle=True) "
   ]
  },
  {
   "cell_type": "code",
   "execution_count": 36,
   "metadata": {
    "ExecuteTime": {
     "end_time": "2018-05-06T16:30:57.308841Z",
     "start_time": "2018-05-06T16:30:57.295395Z"
    },
    "collapsed": true
   },
   "outputs": [],
   "source": [
    "net = ConvNetAutoEncoder(input_size=(3, 32, 32), conv_layers_num=1, conv_out_channels=conv_num, conv_kernel_size=kernel_size, \n",
    "                         conv_stride=2, pool_kernel_size=2, pool_stride=1)\n",
    "optimizer = optim.SGD(net.parameters(), lr=0.01, weight_decay=0.01)"
   ]
  },
  {
   "cell_type": "code",
   "execution_count": 37,
   "metadata": {
    "ExecuteTime": {
     "end_time": "2018-05-06T16:31:06.806804Z",
     "start_time": "2018-05-06T16:30:58.422797Z"
    }
   },
   "outputs": [
    {
     "name": "stdout",
     "output_type": "stream",
     "text": [
      "[epoch 5] loss: 0.364\n",
      "[epoch 10] loss: 0.192\n",
      "[epoch 15] loss: 0.130\n"
     ]
    },
    {
     "data": {
      "text/plain": [
       "0.1303722579298774"
      ]
     },
     "execution_count": 37,
     "metadata": {},
     "output_type": "execute_result"
    }
   ],
   "source": [
    "fit_net(net, optimizer, criterion, fulltrainloader, epoch_num, verbose=True)"
   ]
  },
  {
   "cell_type": "code",
   "execution_count": 38,
   "metadata": {
    "ExecuteTime": {
     "end_time": "2018-05-06T16:31:08.610280Z",
     "start_time": "2018-05-06T16:31:08.438159Z"
    }
   },
   "outputs": [
    {
     "data": {
      "text/plain": [
       "91.0"
      ]
     },
     "execution_count": 38,
     "metadata": {},
     "output_type": "execute_result"
    }
   ],
   "source": [
    "check_accuracy(net, testloader)"
   ]
  },
  {
   "cell_type": "markdown",
   "metadata": {},
   "source": [
    "Итак, построенная модель продемонстрировала точность на тестовой выборке равную 91%."
   ]
  },
  {
   "cell_type": "markdown",
   "metadata": {},
   "source": [
    "### 5. Возможные способы улучшения результатов "
   ]
  },
  {
   "cell_type": "markdown",
   "metadata": {},
   "source": [
    "1. При выполнении данного задания были подобраны далеко не все параметры модели: такие параметры, как, например, stride и padding как свёрточного, так и pooling-слоя использовались со значениями по умолчанию.  \n",
    "Это связано с тем, что при выполнении данного задания преследовалась цель скорее продемонстрировать навыки и умения работы со свёрточными нейронными сетями, нежели достигнуть очень высокого качества работы модели.\n",
    "\n",
    "2. Как упоминалось ранее, в виду небольшого размера выборки для данной задачи можно было использовать банальный полный перебор по различным значениям параметров. Скорее всего, построенная с помощью данного подхода модель продемонстрировала бы лучшие результаты работы на тестовой выборки.\n",
    "\n",
    "3. Использовать более \"продвинутые\" оптимизационные алгоритмы нейронных сетей по сравнению с обычным стохастическим градиентым спуском (например, градиентный спуск с моментумом либо Adam).\n",
    "\n",
    "4. Использование кросс-валидации при подборе параметров, возможно, также улучшило бы результаты финальной модели.\n"
   ]
  },
  {
   "cell_type": "markdown",
   "metadata": {},
   "source": [
    "## Задача 1.2"
   ]
  },
  {
   "cell_type": "markdown",
   "metadata": {},
   "source": [
    "<b> Постановка задачи</b>: найти изображения, похожие и на крокодила, и на часы одновременно.  \n",
    "\n",
    "<b> Идея решения</b>: обучить свёрточный автокодировщик, получить латентные представления изображений и далее с помощью какой-либо метрики найти наиболее близкие изображения разных классов."
   ]
  },
  {
   "cell_type": "markdown",
   "metadata": {},
   "source": [
    "Загрузим и подготовим все изображения из предоставленной выборки."
   ]
  },
  {
   "cell_type": "code",
   "execution_count": 73,
   "metadata": {
    "ExecuteTime": {
     "end_time": "2018-05-06T18:39:21.003707Z",
     "start_time": "2018-05-06T18:39:20.972667Z"
    },
    "collapsed": true
   },
   "outputs": [],
   "source": [
    "data_full = np.concatenate((train, val, test))\n",
    "y_data_full = np.concatenate((y_train, y_val, y_test))\n",
    "data = torch.stack([torch.Tensor(i) for i in data_full])\n",
    "y_data = torch.LongTensor(y_data_full)"
   ]
  },
  {
   "cell_type": "code",
   "execution_count": 74,
   "metadata": {
    "ExecuteTime": {
     "end_time": "2018-05-06T18:39:22.014881Z",
     "start_time": "2018-05-06T18:39:22.009878Z"
    }
   },
   "outputs": [],
   "source": [
    "data = torch.utils.data.TensorDataset(data, y_data)\n",
    "dataloader = torch.utils.data.DataLoader(data, batch_size=4, shuffle=True)"
   ]
  },
  {
   "cell_type": "markdown",
   "metadata": {},
   "source": [
    "Обучение автокодировщика:"
   ]
  },
  {
   "cell_type": "code",
   "execution_count": 44,
   "metadata": {
    "ExecuteTime": {
     "end_time": "2018-05-06T18:30:03.677190Z",
     "start_time": "2018-05-06T18:30:03.672183Z"
    },
    "collapsed": true
   },
   "outputs": [],
   "source": [
    "from ConvNetwork import fit_autoencoder"
   ]
  },
  {
   "cell_type": "code",
   "execution_count": 50,
   "metadata": {
    "ExecuteTime": {
     "end_time": "2018-05-06T18:32:48.852962Z",
     "start_time": "2018-05-06T18:32:48.842956Z"
    }
   },
   "outputs": [],
   "source": [
    "autoencoder = ConvNetAutoEncoder(input_size=(3, 32, 32), conv_layers_num=1, conv_out_channels=10, conv_kernel_size=4, conv_stride=1, \n",
    "                                 conv_padding=2, pool_kernel_size=2, pool_stride=2)\n",
    "optimizer = optim.SGD(autoencoder.parameters(), lr=0.01, weight_decay=0.01)\n",
    "criterion = nn.MSELoss()"
   ]
  },
  {
   "cell_type": "code",
   "execution_count": 52,
   "metadata": {
    "ExecuteTime": {
     "end_time": "2018-05-06T18:34:03.870514Z",
     "start_time": "2018-05-06T18:32:54.194720Z"
    }
   },
   "outputs": [
    {
     "name": "stdout",
     "output_type": "stream",
     "text": [
      "[epoch 5] loss: 0.054\n",
      "[epoch 10] loss: 0.040\n",
      "[epoch 15] loss: 0.032\n",
      "[epoch 20] loss: 0.028\n",
      "[epoch 25] loss: 0.026\n",
      "[epoch 30] loss: 0.025\n",
      "[epoch 35] loss: 0.024\n",
      "[epoch 40] loss: 0.024\n",
      "[epoch 45] loss: 0.023\n",
      "[epoch 50] loss: 0.023\n"
     ]
    },
    {
     "data": {
      "text/plain": [
       "0.022859523087739943"
      ]
     },
     "execution_count": 52,
     "metadata": {},
     "output_type": "execute_result"
    }
   ],
   "source": [
    "fit_autoencoder(autoencoder, optimizer, criterion, dataloader, 50)"
   ]
  },
  {
   "cell_type": "markdown",
   "metadata": {
    "ExecuteTime": {
     "end_time": "2018-05-06T19:19:45.895077Z",
     "start_time": "2018-05-06T19:19:45.889072Z"
    }
   },
   "source": [
    "Визулизируем результаты работы автокодировщика."
   ]
  },
  {
   "cell_type": "code",
   "execution_count": 111,
   "metadata": {
    "ExecuteTime": {
     "end_time": "2018-05-06T19:19:53.746895Z",
     "start_time": "2018-05-06T19:19:53.738889Z"
    },
    "collapsed": true
   },
   "outputs": [],
   "source": [
    "it = iter(dataloader)\n",
    "images, _ = next(it)"
   ]
  },
  {
   "cell_type": "markdown",
   "metadata": {},
   "source": [
    "Исходные изображения:"
   ]
  },
  {
   "cell_type": "code",
   "execution_count": 112,
   "metadata": {
    "ExecuteTime": {
     "end_time": "2018-05-06T19:21:04.294887Z",
     "start_time": "2018-05-06T19:21:04.117761Z"
    },
    "scrolled": true
   },
   "outputs": [
    {
     "data": {
      "image/png": "[encoded data removed]",
      "text/plain": [
       "<matplotlib.figure.Figure at 0x212bd0cbc50>"
      ]
     },
     "metadata": {},
     "output_type": "display_data"
    }
   ],
   "source": [
    "grid = torchvision.utils.make_grid(torch.stack([torch.Tensor(image) for image in images]), padding=0)\n",
    "imshow(grid, tensor=True)"
   ]
  },
  {
   "cell_type": "code",
   "execution_count": 113,
   "metadata": {
    "ExecuteTime": {
     "end_time": "2018-05-06T19:21:10.805052Z",
     "start_time": "2018-05-06T19:21:10.795047Z"
    },
    "collapsed": true
   },
   "outputs": [],
   "source": [
    "images = autoencoder(Variable(images), autoencoder=True).data"
   ]
  },
  {
   "cell_type": "markdown",
   "metadata": {},
   "source": [
    "Изображения после применения автокодировщика:"
   ]
  },
  {
   "cell_type": "code",
   "execution_count": 114,
   "metadata": {
    "ExecuteTime": {
     "end_time": "2018-05-06T19:21:23.300762Z",
     "start_time": "2018-05-06T19:21:23.090616Z"
    },
    "scrolled": true
   },
   "outputs": [
    {
     "data": {
      "image/png": "[encoded data removed]",
      "text/plain": [
       "<matplotlib.figure.Figure at 0x212bd1d19e8>"
      ]
     },
     "metadata": {},
     "output_type": "display_data"
    }
   ],
   "source": [
    "grid = torchvision.utils.make_grid(torch.stack([torch.Tensor(image) for image in images]), padding=0)\n",
    "imshow(grid, tensor=True)"
   ]
  },
  {
   "cell_type": "markdown",
   "metadata": {},
   "source": [
    "Теперь с помощью обученного автокодировщика переведем изображения выборки в латентные признаковые представления:"
   ]
  },
  {
   "cell_type": "code",
   "execution_count": 63,
   "metadata": {
    "ExecuteTime": {
     "end_time": "2018-05-06T18:36:25.546628Z",
     "start_time": "2018-05-06T18:36:25.540625Z"
    }
   },
   "outputs": [],
   "source": [
    "encoded_shape = autoencoder.encode(Variable(images)).data.numpy().shape[1:]"
   ]
  },
  {
   "cell_type": "code",
   "execution_count": 75,
   "metadata": {
    "ExecuteTime": {
     "end_time": "2018-05-06T18:39:30.474526Z",
     "start_time": "2018-05-06T18:39:25.935355Z"
    }
   },
   "outputs": [],
   "source": [
    "loader = torch.utils.data.DataLoader(data, batch_size=1, shuffle=False) \n",
    "encoded_crocs = np.empty((0,) + encoded_shape)\n",
    "encoded_clocks = np.empty((0,) + encoded_shape)\n",
    "for batch in loader:\n",
    "    images, label = batch\n",
    "    images = Variable(images)\n",
    "    if label[0] == 0:\n",
    "        encoded_crocs = np.vstack((encoded_crocs, autoencoder.encode(images).data.numpy()))\n",
    "    else:\n",
    "        encoded_clocks = np.vstack((encoded_clocks, autoencoder.encode(images).data.numpy()))"
   ]
  },
  {
   "cell_type": "markdown",
   "metadata": {},
   "source": [
    "Между объектами двух классов в новом признаковом пространстве посчитаем попарные евклидовые расстояния:"
   ]
  },
  {
   "cell_type": "code",
   "execution_count": 76,
   "metadata": {
    "ExecuteTime": {
     "end_time": "2018-05-06T18:39:32.949291Z",
     "start_time": "2018-05-06T18:39:32.945287Z"
    },
    "collapsed": true
   },
   "outputs": [],
   "source": [
    "from scipy.spatial.distance import cdist"
   ]
  },
  {
   "cell_type": "code",
   "execution_count": 77,
   "metadata": {
    "ExecuteTime": {
     "end_time": "2018-05-06T18:39:37.500677Z",
     "start_time": "2018-05-06T18:39:36.570891Z"
    },
    "collapsed": true
   },
   "outputs": [],
   "source": [
    "distances = cdist(encoded_crocs.reshape(encoded_crocs.shape[0], -1), encoded_clocks.reshape(encoded_clocks.shape[0], -1))"
   ]
  },
  {
   "cell_type": "code",
   "execution_count": 81,
   "metadata": {
    "ExecuteTime": {
     "end_time": "2018-05-06T18:40:07.069698Z",
     "start_time": "2018-05-06T18:40:07.059691Z"
    },
    "collapsed": true
   },
   "outputs": [],
   "source": [
    "indexes = np.unravel_index(np.argpartition(distances.ravel(), 5)[:5], distances.shape)"
   ]
  },
  {
   "cell_type": "markdown",
   "metadata": {},
   "source": [
    "Провизуализируем 5 наиболее близких пар объектов разных классов:"
   ]
  },
  {
   "cell_type": "code",
   "execution_count": 85,
   "metadata": {
    "ExecuteTime": {
     "end_time": "2018-05-06T18:40:44.400712Z",
     "start_time": "2018-05-06T18:40:44.387704Z"
    },
    "collapsed": true
   },
   "outputs": [],
   "source": [
    "images = np.concatenate((train, val, test))\n",
    "labels = np.concatenate((y_train, y_val, y_test))"
   ]
  },
  {
   "cell_type": "code",
   "execution_count": 86,
   "metadata": {
    "ExecuteTime": {
     "end_time": "2018-05-06T18:40:51.524765Z",
     "start_time": "2018-05-06T18:40:51.514758Z"
    },
    "collapsed": true
   },
   "outputs": [],
   "source": [
    "crocks = images[labels == 0][indexes[0]]"
   ]
  },
  {
   "cell_type": "code",
   "execution_count": 87,
   "metadata": {
    "ExecuteTime": {
     "end_time": "2018-05-06T18:40:58.267912Z",
     "start_time": "2018-05-06T18:40:58.257906Z"
    },
    "collapsed": true
   },
   "outputs": [],
   "source": [
    "clocks = images[labels == 1][indexes[1]]"
   ]
  },
  {
   "cell_type": "code",
   "execution_count": 99,
   "metadata": {
    "ExecuteTime": {
     "end_time": "2018-05-06T18:46:02.969734Z",
     "start_time": "2018-05-06T18:46:02.065513Z"
    }
   },
   "outputs": [
    {
     "data": {
      "image/png": "[encoded data removed]",
      "text/plain": [
       "<matplotlib.figure.Figure at 0x212be369ac8>"
      ]
     },
     "metadata": {},
     "output_type": "display_data"
    },
    {
     "data": {
      "image/png": "[encoded data removed]",
      "text/plain": [
       "<matplotlib.figure.Figure at 0x212bd168128>"
      ]
     },
     "metadata": {},
     "output_type": "display_data"
    },
    {
     "data": {
      "image/png": "[encoded data removed]",
      "text/plain": [
       "<matplotlib.figure.Figure at 0x212be571c50>"
      ]
     },
     "metadata": {},
     "output_type": "display_data"
    },
    {
     "data": {
      "image/png": "[encoded data removed]",
      "text/plain": [
       "<matplotlib.figure.Figure at 0x212be558fd0>"
      ]
     },
     "metadata": {},
     "output_type": "display_data"
    },
    {
     "data": {
      "image/png": "[encoded data removed]",
      "text/plain": [
       "<matplotlib.figure.Figure at 0x212bd0119b0>"
      ]
     },
     "metadata": {},
     "output_type": "display_data"
    }
   ],
   "source": [
    "for crock, clock in zip(crocks, clocks):\n",
    "    imshow(torchvision.utils.make_grid(torch.stack([torch.Tensor(crock), torch.Tensor(clock)]), padding=0), tensor=True)"
   ]
  },
  {
   "cell_type": "markdown",
   "metadata": {},
   "source": [
    "Результаты работы модели оставляют желать лучшего: большинство изображений человек однозначно классифицирует как часы или крокодил. С другой стороны, в связи с небольшим размером датасета, возможно в нем просто отсутствуют изображения, которые похожи и на часы, и на крокодила больше, чем приведенные выше.  \n",
    "\n",
    "Хочется отметить, что, несмотря на визуальную непохожесть, изображения в парах преимущественно из одной цветовой гаммы. Возможно поэтому модель выдала эти пары в качестве ответа. \n",
    "\n",
    "Также, изображение часов из первых трех пар при небольшом желании можно спутать, например, с глазом крокодила :)"
   ]
  },
  {
   "cell_type": "markdown",
   "metadata": {},
   "source": [
    "## Возможные способы улучшения результатов:"
   ]
  },
  {
   "cell_type": "markdown",
   "metadata": {},
   "source": [
    "1. Вместо евклидовой метрики попробовать использовать другие (например, косинусную).\n",
    "2. Вместо подсчёта попарных расстояний между объектами разных классов, попробовать сначала найти некоторые \"средние\" изображения\n",
    "крокодила и часов. Например, это можно сделать, посчитав центроиды каждого класса в новом признаковом представлении. Далее искать наиболее близкие к центроиду одного класса объекты другого класса."
   ]
  }
 ],
 "metadata": {
  "kernelspec": {
   "display_name": "Python 3",
   "language": "python",
   "name": "python3"
  },
  "language_info": {
   "codemirror_mode": {
    "name": "ipython",
    "version": 3
   },
   "file_extension": ".py",
   "mimetype": "text/x-python",
   "name": "python",
   "nbconvert_exporter": "python",
   "pygments_lexer": "ipython3",
   "version": "3.6.4"
  }
 },
 "nbformat": 4,
 "nbformat_minor": 2
}
