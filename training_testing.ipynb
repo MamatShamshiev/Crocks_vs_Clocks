{
 "cells": [
  {
   "cell_type": "markdown",
   "metadata": {},
   "source": [
    "# Обучение и тестирование"
   ]
  },
  {
   "cell_type": "markdown",
   "metadata": {},
   "source": [
    "<div style=\"text-align: right\"> М. М. Шамшиев  </div> \n",
    "<div style=\"text-align: right\"> 06.05.2018 </div> "
   ]
  },
  {
   "cell_type": "code",
   "execution_count": 1,
   "metadata": {
    "ExecuteTime": {
     "end_time": "2018-05-09T09:39:37.984629Z",
     "start_time": "2018-05-09T09:39:35.834440Z"
    },
    "collapsed": true
   },
   "outputs": [],
   "source": [
    "import numpy as np\n",
    "import glob\n",
    "import skimage.io\n",
    "from sklearn.model_selection import train_test_split\n",
    "\n",
    "from ConvNetwork import ConvNetAutoEncoder\n",
    "from ConvNetwork import fit_net\n",
    "from ConvNetwork import check_accuracy\n",
    "from ConvNetwork import loader_from_numpy\n",
    "from ConvNetwork import get_predictions"
   ]
  },
  {
   "cell_type": "markdown",
   "metadata": {},
   "source": [
    "## Загрузка и подготовка данных"
   ]
  },
  {
   "cell_type": "markdown",
   "metadata": {},
   "source": [
    "Предполагается, что папки, содержащие изображения, находятся в текущей директории и имеют названия \"crocodiles\" и \"clocks\" (если это не так, укажите верный путь в ячейке ниже)."
   ]
  },
  {
   "cell_type": "code",
   "execution_count": 2,
   "metadata": {
    "ExecuteTime": {
     "end_time": "2018-05-09T09:39:39.537708Z",
     "start_time": "2018-05-09T09:39:39.053141Z"
    },
    "collapsed": true
   },
   "outputs": [],
   "source": [
    "crocs = np.array([skimage.io.imread(file) for file in glob.glob(\"crocodiles/*.png\")])\n",
    "crocs = np.transpose(crocs, (0, 3, 1, 2))\n",
    "\n",
    "clocks = np.array([skimage.io.imread(file) for file in glob.glob(\"clocks/*.png\")])\n",
    "clocks = np.transpose(clocks, (0, 3, 1, 2))"
   ]
  },
  {
   "cell_type": "code",
   "execution_count": 3,
   "metadata": {
    "ExecuteTime": {
     "end_time": "2018-05-09T09:39:45.058389Z",
     "start_time": "2018-05-09T09:39:45.033373Z"
    },
    "collapsed": true
   },
   "outputs": [],
   "source": [
    "X = np.concatenate((crocs, clocks))\n",
    "y = np.concatenate((np.zeros(len(crocs), dtype=np.int), np.ones(len(clocks), dtype=np.int)))\n",
    "\n",
    "X_train, X_test, y_train, y_test = train_test_split(X, y, test_size=0.3, shuffle=True)"
   ]
  },
  {
   "cell_type": "code",
   "execution_count": 4,
   "metadata": {
    "ExecuteTime": {
     "end_time": "2018-05-09T09:39:45.708481Z",
     "start_time": "2018-05-09T09:39:45.648433Z"
    },
    "collapsed": true
   },
   "outputs": [],
   "source": [
    "trainloader = loader_from_numpy(X_train, y_train)\n",
    "testloader = loader_from_numpy(X_test, y_test, shuffle=False)"
   ]
  },
  {
   "cell_type": "markdown",
   "metadata": {},
   "source": [
    "## Обучение модели"
   ]
  },
  {
   "cell_type": "code",
   "execution_count": 5,
   "metadata": {
    "ExecuteTime": {
     "end_time": "2018-05-09T09:39:47.019402Z",
     "start_time": "2018-05-09T09:39:47.010397Z"
    },
    "collapsed": true
   },
   "outputs": [],
   "source": [
    "net = ConvNetAutoEncoder(input_size=(3, 32, 32), conv_layers_num=1, conv_out_channels=25, conv_kernel_size=4, \n",
    "                         conv_stride=2, pool_kernel_size=2, pool_stride=1)"
   ]
  },
  {
   "cell_type": "code",
   "execution_count": 6,
   "metadata": {
    "ExecuteTime": {
     "end_time": "2018-05-09T09:39:54.089603Z",
     "start_time": "2018-05-09T09:39:47.366652Z"
    }
   },
   "outputs": [
    {
     "name": "stdout",
     "output_type": "stream",
     "text": [
      "[epoch 5] loss: 0.397\n",
      "[epoch 10] loss: 0.215\n",
      "[epoch 15] loss: 0.149\n"
     ]
    },
    {
     "data": {
      "text/plain": [
       "0.14910368936794943"
      ]
     },
     "execution_count": 6,
     "metadata": {},
     "output_type": "execute_result"
    }
   ],
   "source": [
    "fit_net(net, trainloader, num_epoch=15, verbose=True)"
   ]
  },
  {
   "cell_type": "markdown",
   "metadata": {},
   "source": [
    "## Предсказание"
   ]
  },
  {
   "cell_type": "markdown",
   "metadata": {},
   "source": [
    "С помощью функции get_predictions() получим скоры классов для объектов тестовой выборки:"
   ]
  },
  {
   "cell_type": "code",
   "execution_count": 7,
   "metadata": {
    "ExecuteTime": {
     "end_time": "2018-05-09T09:39:57.177756Z",
     "start_time": "2018-05-09T09:39:57.025003Z"
    },
    "collapsed": true
   },
   "outputs": [],
   "source": [
    "scores = get_predictions(net, testloader)"
   ]
  },
  {
   "cell_type": "markdown",
   "metadata": {},
   "source": [
    "Непосредственно предсказания модели (метки классов) можно получить следующим образом:"
   ]
  },
  {
   "cell_type": "code",
   "execution_count": 8,
   "metadata": {
    "ExecuteTime": {
     "end_time": "2018-05-09T09:39:58.563611Z",
     "start_time": "2018-05-09T09:39:58.558607Z"
    },
    "collapsed": true
   },
   "outputs": [],
   "source": [
    "predictions = np.argmax(scores, axis=1)"
   ]
  },
  {
   "cell_type": "markdown",
   "metadata": {},
   "source": [
    "Подсчитаем точность:"
   ]
  },
  {
   "cell_type": "code",
   "execution_count": 9,
   "metadata": {
    "ExecuteTime": {
     "end_time": "2018-05-09T09:39:59.682589Z",
     "start_time": "2018-05-09T09:39:59.674583Z"
    }
   },
   "outputs": [
    {
     "name": "stdout",
     "output_type": "stream",
     "text": [
      "0.8833333333333333\n"
     ]
    }
   ],
   "source": [
    "accuracy = (predictions == y_test).sum() / len(y_test)\n",
    "print(accuracy)"
   ]
  },
  {
   "cell_type": "markdown",
   "metadata": {},
   "source": [
    "Получить точность предсказания сразу можно было бы, воспользовавшись функцией check_accuracy():"
   ]
  },
  {
   "cell_type": "code",
   "execution_count": 10,
   "metadata": {
    "ExecuteTime": {
     "end_time": "2018-05-09T09:40:01.267134Z",
     "start_time": "2018-05-09T09:40:01.079233Z"
    }
   },
   "outputs": [
    {
     "name": "stdout",
     "output_type": "stream",
     "text": [
      "Accuracy of the network: 88.33 %\n"
     ]
    },
    {
     "data": {
      "text/plain": [
       "88.33333333333333"
      ]
     },
     "execution_count": 10,
     "metadata": {},
     "output_type": "execute_result"
    }
   ],
   "source": [
    "check_accuracy(net, testloader, verbose=True)"
   ]
  }
 ],
 "metadata": {
  "kernelspec": {
   "display_name": "Python 3",
   "language": "python",
   "name": "python3"
  },
  "language_info": {
   "codemirror_mode": {
    "name": "ipython",
    "version": 3
   },
   "file_extension": ".py",
   "mimetype": "text/x-python",
   "name": "python",
   "nbconvert_exporter": "python",
   "pygments_lexer": "ipython3",
   "version": "3.6.4"
  }
 },
 "nbformat": 4,
 "nbformat_minor": 2
}
